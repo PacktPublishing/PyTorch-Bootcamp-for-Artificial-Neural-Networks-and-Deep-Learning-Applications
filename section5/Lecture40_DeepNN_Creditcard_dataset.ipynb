{
 "cells": [
  {
   "cell_type": "code",
   "execution_count": 1,
   "metadata": {},
   "outputs": [],
   "source": [
    "import numpy as np\n",
    "import pandas as pd\n",
    "import matplotlib.pyplot as plt\n",
    "import seaborn as sns\n",
    "from torch.utils.data import TensorDataset, DataLoader\n",
    "from sklearn.model_selection import train_test_split\n",
    "from sklearn.metrics import confusion_matrix, accuracy_score\n",
    "import torch.nn.functional as F\n",
    "import torch\n",
    "from torch import optim\n",
    "import torch\n",
    "import torch.nn as nn"
   ]
  },
  {
   "cell_type": "markdown",
   "metadata": {},
   "source": [
    "# Importing and visualizing dataset"
   ]
  },
  {
   "cell_type": "code",
   "execution_count": 2,
   "metadata": {},
   "outputs": [
    {
     "data": {
      "text/html": [
       "<div>\n",
       "<style scoped>\n",
       "    .dataframe tbody tr th:only-of-type {\n",
       "        vertical-align: middle;\n",
       "    }\n",
       "\n",
       "    .dataframe tbody tr th {\n",
       "        vertical-align: top;\n",
       "    }\n",
       "\n",
       "    .dataframe thead th {\n",
       "        text-align: right;\n",
       "    }\n",
       "</style>\n",
       "<table border=\"1\" class=\"dataframe\">\n",
       "  <thead>\n",
       "    <tr style=\"text-align: right;\">\n",
       "      <th></th>\n",
       "      <th>Time</th>\n",
       "      <th>V1</th>\n",
       "      <th>V2</th>\n",
       "      <th>V3</th>\n",
       "      <th>V4</th>\n",
       "      <th>V5</th>\n",
       "      <th>V6</th>\n",
       "      <th>V7</th>\n",
       "      <th>V8</th>\n",
       "      <th>V9</th>\n",
       "      <th>...</th>\n",
       "      <th>V21</th>\n",
       "      <th>V22</th>\n",
       "      <th>V23</th>\n",
       "      <th>V24</th>\n",
       "      <th>V25</th>\n",
       "      <th>V26</th>\n",
       "      <th>V27</th>\n",
       "      <th>V28</th>\n",
       "      <th>Amount</th>\n",
       "      <th>Class</th>\n",
       "    </tr>\n",
       "  </thead>\n",
       "  <tbody>\n",
       "    <tr>\n",
       "      <th>0</th>\n",
       "      <td>0.0</td>\n",
       "      <td>-1.359807</td>\n",
       "      <td>-0.072781</td>\n",
       "      <td>2.536347</td>\n",
       "      <td>1.378155</td>\n",
       "      <td>-0.338321</td>\n",
       "      <td>0.462388</td>\n",
       "      <td>0.239599</td>\n",
       "      <td>0.098698</td>\n",
       "      <td>0.363787</td>\n",
       "      <td>...</td>\n",
       "      <td>-0.018307</td>\n",
       "      <td>0.277838</td>\n",
       "      <td>-0.110474</td>\n",
       "      <td>0.066928</td>\n",
       "      <td>0.128539</td>\n",
       "      <td>-0.189115</td>\n",
       "      <td>0.133558</td>\n",
       "      <td>-0.021053</td>\n",
       "      <td>149.62</td>\n",
       "      <td>0</td>\n",
       "    </tr>\n",
       "    <tr>\n",
       "      <th>1</th>\n",
       "      <td>0.0</td>\n",
       "      <td>1.191857</td>\n",
       "      <td>0.266151</td>\n",
       "      <td>0.166480</td>\n",
       "      <td>0.448154</td>\n",
       "      <td>0.060018</td>\n",
       "      <td>-0.082361</td>\n",
       "      <td>-0.078803</td>\n",
       "      <td>0.085102</td>\n",
       "      <td>-0.255425</td>\n",
       "      <td>...</td>\n",
       "      <td>-0.225775</td>\n",
       "      <td>-0.638672</td>\n",
       "      <td>0.101288</td>\n",
       "      <td>-0.339846</td>\n",
       "      <td>0.167170</td>\n",
       "      <td>0.125895</td>\n",
       "      <td>-0.008983</td>\n",
       "      <td>0.014724</td>\n",
       "      <td>2.69</td>\n",
       "      <td>0</td>\n",
       "    </tr>\n",
       "    <tr>\n",
       "      <th>2</th>\n",
       "      <td>1.0</td>\n",
       "      <td>-1.358354</td>\n",
       "      <td>-1.340163</td>\n",
       "      <td>1.773209</td>\n",
       "      <td>0.379780</td>\n",
       "      <td>-0.503198</td>\n",
       "      <td>1.800499</td>\n",
       "      <td>0.791461</td>\n",
       "      <td>0.247676</td>\n",
       "      <td>-1.514654</td>\n",
       "      <td>...</td>\n",
       "      <td>0.247998</td>\n",
       "      <td>0.771679</td>\n",
       "      <td>0.909412</td>\n",
       "      <td>-0.689281</td>\n",
       "      <td>-0.327642</td>\n",
       "      <td>-0.139097</td>\n",
       "      <td>-0.055353</td>\n",
       "      <td>-0.059752</td>\n",
       "      <td>378.66</td>\n",
       "      <td>0</td>\n",
       "    </tr>\n",
       "    <tr>\n",
       "      <th>3</th>\n",
       "      <td>1.0</td>\n",
       "      <td>-0.966272</td>\n",
       "      <td>-0.185226</td>\n",
       "      <td>1.792993</td>\n",
       "      <td>-0.863291</td>\n",
       "      <td>-0.010309</td>\n",
       "      <td>1.247203</td>\n",
       "      <td>0.237609</td>\n",
       "      <td>0.377436</td>\n",
       "      <td>-1.387024</td>\n",
       "      <td>...</td>\n",
       "      <td>-0.108300</td>\n",
       "      <td>0.005274</td>\n",
       "      <td>-0.190321</td>\n",
       "      <td>-1.175575</td>\n",
       "      <td>0.647376</td>\n",
       "      <td>-0.221929</td>\n",
       "      <td>0.062723</td>\n",
       "      <td>0.061458</td>\n",
       "      <td>123.50</td>\n",
       "      <td>0</td>\n",
       "    </tr>\n",
       "    <tr>\n",
       "      <th>4</th>\n",
       "      <td>2.0</td>\n",
       "      <td>-1.158233</td>\n",
       "      <td>0.877737</td>\n",
       "      <td>1.548718</td>\n",
       "      <td>0.403034</td>\n",
       "      <td>-0.407193</td>\n",
       "      <td>0.095921</td>\n",
       "      <td>0.592941</td>\n",
       "      <td>-0.270533</td>\n",
       "      <td>0.817739</td>\n",
       "      <td>...</td>\n",
       "      <td>-0.009431</td>\n",
       "      <td>0.798278</td>\n",
       "      <td>-0.137458</td>\n",
       "      <td>0.141267</td>\n",
       "      <td>-0.206010</td>\n",
       "      <td>0.502292</td>\n",
       "      <td>0.219422</td>\n",
       "      <td>0.215153</td>\n",
       "      <td>69.99</td>\n",
       "      <td>0</td>\n",
       "    </tr>\n",
       "  </tbody>\n",
       "</table>\n",
       "<p>5 rows × 31 columns</p>\n",
       "</div>"
      ],
      "text/plain": [
       "   Time        V1        V2        V3        V4        V5        V6        V7  \\\n",
       "0   0.0 -1.359807 -0.072781  2.536347  1.378155 -0.338321  0.462388  0.239599   \n",
       "1   0.0  1.191857  0.266151  0.166480  0.448154  0.060018 -0.082361 -0.078803   \n",
       "2   1.0 -1.358354 -1.340163  1.773209  0.379780 -0.503198  1.800499  0.791461   \n",
       "3   1.0 -0.966272 -0.185226  1.792993 -0.863291 -0.010309  1.247203  0.237609   \n",
       "4   2.0 -1.158233  0.877737  1.548718  0.403034 -0.407193  0.095921  0.592941   \n",
       "\n",
       "         V8        V9  ...       V21       V22       V23       V24       V25  \\\n",
       "0  0.098698  0.363787  ... -0.018307  0.277838 -0.110474  0.066928  0.128539   \n",
       "1  0.085102 -0.255425  ... -0.225775 -0.638672  0.101288 -0.339846  0.167170   \n",
       "2  0.247676 -1.514654  ...  0.247998  0.771679  0.909412 -0.689281 -0.327642   \n",
       "3  0.377436 -1.387024  ... -0.108300  0.005274 -0.190321 -1.175575  0.647376   \n",
       "4 -0.270533  0.817739  ... -0.009431  0.798278 -0.137458  0.141267 -0.206010   \n",
       "\n",
       "        V26       V27       V28  Amount  Class  \n",
       "0 -0.189115  0.133558 -0.021053  149.62      0  \n",
       "1  0.125895 -0.008983  0.014724    2.69      0  \n",
       "2 -0.139097 -0.055353 -0.059752  378.66      0  \n",
       "3 -0.221929  0.062723  0.061458  123.50      0  \n",
       "4  0.502292  0.219422  0.215153   69.99      0  \n",
       "\n",
       "[5 rows x 31 columns]"
      ]
     },
     "execution_count": 2,
     "metadata": {},
     "output_type": "execute_result"
    }
   ],
   "source": [
    "#import the dataset\n",
    "iris = pd.read_csv(\"creditcard.csv\")\n",
    "iris.head()"
   ]
  },
  {
   "cell_type": "markdown",
   "metadata": {},
   "source": [
    "# Seperating Examples and Labels"
   ]
  },
  {
   "cell_type": "code",
   "execution_count": 3,
   "metadata": {},
   "outputs": [
    {
     "name": "stdout",
     "output_type": "stream",
     "text": [
      "X_train shape:  (256326, 28)\n",
      "y_train shape:  (256326,)\n",
      "X_test shape:  (28481, 28)\n",
      "y_test shape:  (28481,)\n"
     ]
    }
   ],
   "source": [
    "X= iris.iloc[:, 1:29]\n",
    "Y= iris.iloc[:, 30]\n",
    "from sklearn.preprocessing import normalize\n",
    "X = normalize(X)\n",
    "y = np.array(Y)\n",
    "y = y.astype(int)\n",
    "\n",
    "X_train,X_test,Y_train,Y_test= train_test_split(X, y, test_size= 0.10, random_state= 1)\n",
    "print ('X_train shape: ',X_train.shape)\n",
    "print ('y_train shape: ',Y_train.shape)\n",
    "print ('X_test shape: ',X_test.shape)\n",
    "print ('y_test shape: ',Y_test.shape)"
   ]
  },
  {
   "cell_type": "markdown",
   "metadata": {},
   "source": [
    "## Using Dataloader to convert numpy arrays to Tensors "
   ]
  },
  {
   "cell_type": "code",
   "execution_count": 4,
   "metadata": {},
   "outputs": [],
   "source": [
    "\n",
    "trainloader = DataLoader(TensorDataset(torch.from_numpy(X_train), torch.from_numpy(Y_train)),\n",
    "                         batch_size=len(X_train), shuffle=True)\n",
    "testloader = DataLoader(TensorDataset(torch.from_numpy(X_test), torch.from_numpy(Y_test)),\n",
    "                         batch_size=len(X_test), shuffle=False)\n",
    "\n",
    "dataloaders = {\n",
    "    \"train\": trainloader,\n",
    "    \"validation\": testloader\n",
    "}"
   ]
  },
  {
   "cell_type": "markdown",
   "metadata": {},
   "source": [
    "## This class will define our model\n",
    "### Using __init__ we will define numbers of nodes in our particular layer\n",
    "### Using forward() we will define functionality of each layer"
   ]
  },
  {
   "cell_type": "code",
   "execution_count": 5,
   "metadata": {},
   "outputs": [],
   "source": [
    "class Classifier(nn.Module):\n",
    "    def __init__(self):\n",
    "        super().__init__()\n",
    "        self.fc1 = nn.Linear(28, 340)\n",
    "        self.fc2 = nn.Linear(340, 220)\n",
    "        self.fc3 = nn.Linear(220, 200)\n",
    "        self.fc4 = nn.Linear(200, 70)\n",
    "        self.fc5 = nn.Linear(70, 10)\n",
    "        self.fc6 = nn.Linear(10, 2)\n",
    "        self.dropout = nn.Dropout(p=0.2)\n",
    "        \n",
    "    def forward(self, x):\n",
    "        #x = x.view(x.shape[0], -1)\n",
    "        #print(x)\n",
    "        \n",
    "        x = F.relu(self.fc1(x))\n",
    "        x = F.relu(self.fc2(x))\n",
    "        x = F.relu(self.fc3(x))\n",
    "        \n",
    "        x = F.relu(self.fc4(x))\n",
    "        x = self.dropout(F.relu(self.fc5(x)))\n",
    "        x = F.log_softmax(self.fc6(x), dim=1)\n",
    "        \n",
    "        #x = F.log_softmax(self.fc4(x))\n",
    "        return x"
   ]
  },
  {
   "cell_type": "markdown",
   "metadata": {},
   "source": [
    "## Model declaration, Type of loss and optimizer.\n",
    "### We are using adam optimizer to optimize our network"
   ]
  },
  {
   "cell_type": "code",
   "execution_count": 6,
   "metadata": {},
   "outputs": [],
   "source": [
    "model = Classifier()\n",
    "criterion = nn.NLLLoss()\n",
    "optimizer = optim.Adam(model.parameters(), lr=0.01)"
   ]
  },
  {
   "cell_type": "markdown",
   "metadata": {},
   "source": [
    "## This block is showing summary off our model"
   ]
  },
  {
   "cell_type": "code",
   "execution_count": 9,
   "metadata": {},
   "outputs": [
    {
     "data": {
      "text/plain": [
       "Classifier(\n",
       "  (fc1): Linear(in_features=28, out_features=340, bias=True)\n",
       "  (fc2): Linear(in_features=340, out_features=220, bias=True)\n",
       "  (fc3): Linear(in_features=220, out_features=200, bias=True)\n",
       "  (fc4): Linear(in_features=200, out_features=70, bias=True)\n",
       "  (fc5): Linear(in_features=70, out_features=10, bias=True)\n",
       "  (fc6): Linear(in_features=10, out_features=2, bias=True)\n",
       "  (dropout): Dropout(p=0.2)\n",
       ")"
      ]
     },
     "execution_count": 9,
     "metadata": {},
     "output_type": "execute_result"
    }
   ],
   "source": [
    "model"
   ]
  },
  {
   "cell_type": "markdown",
   "metadata": {},
   "source": [
    "## This function is predicting output of examples we will feed in.\n",
    "### Will be useful in  calculating model accuracies."
   ]
  },
  {
   "cell_type": "code",
   "execution_count": 7,
   "metadata": {},
   "outputs": [],
   "source": [
    "def predict(model, inputs):\n",
    "    output = model(inputs)\n",
    "    return output.data.numpy().argmax(axis= 1)"
   ]
  },
  {
   "cell_type": "markdown",
   "metadata": {},
   "source": [
    "# Here we will perform forward and backward propagation."
   ]
  },
  {
   "cell_type": "code",
   "execution_count": 11,
   "metadata": {
    "scrolled": true
   },
   "outputs": [
    {
     "name": "stdout",
     "output_type": "stream",
     "text": [
      "------------------------------------------------------------------------------------------\n",
      "Epoch [1/40], Iter [1] Loss: 0.7079 Training Accuracy: 0.99827\n",
      "------------------------------------------------------------------------------------------\n",
      "Epoch [2/40], Iter [1] Loss: 0.6593 Training Accuracy: 0.99827\n",
      "------------------------------------------------------------------------------------------\n",
      "Epoch [3/40], Iter [1] Loss: 0.5594 Training Accuracy: 0.99827\n",
      "------------------------------------------------------------------------------------------\n",
      "Epoch [4/40], Iter [1] Loss: 0.3087 Training Accuracy: 0.99827\n",
      "------------------------------------------------------------------------------------------\n",
      "Epoch [5/40], Iter [1] Loss: 0.0671 Training Accuracy: 0.99827\n",
      "------------------------------------------------------------------------------------------\n",
      "Epoch [6/40], Iter [1] Loss: 0.0211 Training Accuracy: 0.99827\n",
      "------------------------------------------------------------------------------------------\n",
      "Epoch [7/40], Iter [1] Loss: 0.0274 Training Accuracy: 0.99827\n",
      "------------------------------------------------------------------------------------------\n",
      "Epoch [8/40], Iter [1] Loss: 0.0398 Training Accuracy: 0.99827\n",
      "------------------------------------------------------------------------------------------\n",
      "Epoch [9/40], Iter [1] Loss: 0.0505 Training Accuracy: 0.99827\n",
      "------------------------------------------------------------------------------------------\n",
      "Epoch [10/40], Iter [1] Loss: 0.0555 Training Accuracy: 0.99827\n",
      "------------------------------------------------------------------------------------------\n",
      "Epoch [11/40], Iter [1] Loss: 0.0558 Training Accuracy: 0.99827\n",
      "------------------------------------------------------------------------------------------\n",
      "Epoch [12/40], Iter [1] Loss: 0.0501 Training Accuracy: 0.99827\n",
      "------------------------------------------------------------------------------------------\n",
      "Epoch [13/40], Iter [1] Loss: 0.0461 Training Accuracy: 0.99827\n",
      "------------------------------------------------------------------------------------------\n",
      "Epoch [14/40], Iter [1] Loss: 0.0391 Training Accuracy: 0.99827\n",
      "------------------------------------------------------------------------------------------\n",
      "Epoch [15/40], Iter [1] Loss: 0.0351 Training Accuracy: 0.99827\n",
      "------------------------------------------------------------------------------------------\n",
      "Epoch [16/40], Iter [1] Loss: 0.0299 Training Accuracy: 0.99827\n",
      "------------------------------------------------------------------------------------------\n",
      "Epoch [17/40], Iter [1] Loss: 0.0280 Training Accuracy: 0.99827\n",
      "------------------------------------------------------------------------------------------\n",
      "Epoch [18/40], Iter [1] Loss: 0.0246 Training Accuracy: 0.99827\n",
      "------------------------------------------------------------------------------------------\n",
      "Epoch [19/40], Iter [1] Loss: 0.0208 Training Accuracy: 0.99827\n",
      "------------------------------------------------------------------------------------------\n",
      "Epoch [20/40], Iter [1] Loss: 0.0179 Training Accuracy: 0.99827\n",
      "------------------------------------------------------------------------------------------\n",
      "Epoch [21/40], Iter [1] Loss: 0.0181 Training Accuracy: 0.99827\n",
      "------------------------------------------------------------------------------------------\n",
      "Epoch [22/40], Iter [1] Loss: 0.0150 Training Accuracy: 0.99827\n",
      "------------------------------------------------------------------------------------------\n",
      "Epoch [23/40], Iter [1] Loss: 0.0144 Training Accuracy: 0.99827\n",
      "------------------------------------------------------------------------------------------\n",
      "Epoch [24/40], Iter [1] Loss: 0.0126 Training Accuracy: 0.99827\n",
      "------------------------------------------------------------------------------------------\n",
      "Epoch [25/40], Iter [1] Loss: 0.0111 Training Accuracy: 0.99827\n",
      "------------------------------------------------------------------------------------------\n",
      "Epoch [26/40], Iter [1] Loss: 0.0103 Training Accuracy: 0.99827\n",
      "------------------------------------------------------------------------------------------\n",
      "Epoch [27/40], Iter [1] Loss: 0.0094 Training Accuracy: 0.99827\n",
      "------------------------------------------------------------------------------------------\n",
      "Epoch [28/40], Iter [1] Loss: 0.0088 Training Accuracy: 0.99827\n",
      "------------------------------------------------------------------------------------------\n",
      "Epoch [29/40], Iter [1] Loss: 0.0088 Training Accuracy: 0.99827\n",
      "------------------------------------------------------------------------------------------\n",
      "Epoch [30/40], Iter [1] Loss: 0.0084 Training Accuracy: 0.99827\n",
      "------------------------------------------------------------------------------------------\n",
      "Epoch [31/40], Iter [1] Loss: 0.0082 Training Accuracy: 0.99827\n",
      "------------------------------------------------------------------------------------------\n",
      "Epoch [32/40], Iter [1] Loss: 0.0081 Training Accuracy: 0.99827\n",
      "------------------------------------------------------------------------------------------\n",
      "Epoch [33/40], Iter [1] Loss: 0.0078 Training Accuracy: 0.99827\n",
      "------------------------------------------------------------------------------------------\n",
      "Epoch [34/40], Iter [1] Loss: 0.0077 Training Accuracy: 0.99827\n",
      "------------------------------------------------------------------------------------------\n",
      "Epoch [35/40], Iter [1] Loss: 0.0077 Training Accuracy: 0.99827\n",
      "------------------------------------------------------------------------------------------\n",
      "Epoch [36/40], Iter [1] Loss: 0.0072 Training Accuracy: 0.99827\n",
      "------------------------------------------------------------------------------------------\n",
      "Epoch [37/40], Iter [1] Loss: 0.0068 Training Accuracy: 0.99827\n",
      "------------------------------------------------------------------------------------------\n",
      "Epoch [38/40], Iter [1] Loss: 0.0065 Training Accuracy: 0.99827\n",
      "------------------------------------------------------------------------------------------\n",
      "Epoch [39/40], Iter [1] Loss: 0.0062 Training Accuracy: 0.99827\n",
      "------------------------------------------------------------------------------------------\n",
      "Epoch [40/40], Iter [1] Loss: 0.0061 Training Accuracy: 0.99827\n",
      "------------------------------------------------------------------------------------------\n",
      "Epoch [41/40], Iter [1] Loss: 0.0059 Training Accuracy: 0.99827\n",
      "------------------------------------------------------------------------------------------\n",
      "Epoch [42/40], Iter [1] Loss: 0.0059 Training Accuracy: 0.99827\n",
      "------------------------------------------------------------------------------------------\n",
      "Epoch [43/40], Iter [1] Loss: 0.0056 Training Accuracy: 0.99827\n",
      "------------------------------------------------------------------------------------------\n",
      "Epoch [44/40], Iter [1] Loss: 0.0059 Training Accuracy: 0.99827\n",
      "------------------------------------------------------------------------------------------\n",
      "Epoch [45/40], Iter [1] Loss: 0.0055 Training Accuracy: 0.99827\n",
      "------------------------------------------------------------------------------------------\n",
      "Epoch [46/40], Iter [1] Loss: 0.0055 Training Accuracy: 0.99827\n",
      "------------------------------------------------------------------------------------------\n",
      "Epoch [47/40], Iter [1] Loss: 0.0054 Training Accuracy: 0.99827\n",
      "------------------------------------------------------------------------------------------\n",
      "Epoch [48/40], Iter [1] Loss: 0.0053 Training Accuracy: 0.99827\n",
      "------------------------------------------------------------------------------------------\n",
      "Epoch [49/40], Iter [1] Loss: 0.0051 Training Accuracy: 0.99827\n",
      "------------------------------------------------------------------------------------------\n",
      "Epoch [50/40], Iter [1] Loss: 0.0048 Training Accuracy: 0.99827\n",
      "------------------------------------------------------------------------------------------\n",
      "Epoch [51/40], Iter [1] Loss: 0.0047 Training Accuracy: 0.99827\n",
      "------------------------------------------------------------------------------------------\n",
      "Epoch [52/40], Iter [1] Loss: 0.0047 Training Accuracy: 0.99827\n",
      "------------------------------------------------------------------------------------------\n",
      "Epoch [53/40], Iter [1] Loss: 0.0046 Training Accuracy: 0.99827\n",
      "------------------------------------------------------------------------------------------\n",
      "Epoch [54/40], Iter [1] Loss: 0.0043 Training Accuracy: 0.99827\n",
      "------------------------------------------------------------------------------------------\n",
      "Epoch [55/40], Iter [1] Loss: 0.0043 Training Accuracy: 0.99827\n",
      "------------------------------------------------------------------------------------------\n",
      "Epoch [56/40], Iter [1] Loss: 0.0044 Training Accuracy: 0.99827\n",
      "------------------------------------------------------------------------------------------\n",
      "Epoch [57/40], Iter [1] Loss: 0.0044 Training Accuracy: 0.99827\n",
      "------------------------------------------------------------------------------------------\n",
      "Epoch [58/40], Iter [1] Loss: 0.0045 Training Accuracy: 0.99827\n",
      "------------------------------------------------------------------------------------------\n"
     ]
    },
    {
     "ename": "KeyboardInterrupt",
     "evalue": "",
     "output_type": "error",
     "traceback": [
      "\u001b[1;31m---------------------------------------------------------------------------\u001b[0m",
      "\u001b[1;31mKeyboardInterrupt\u001b[0m                         Traceback (most recent call last)",
      "\u001b[1;32m<ipython-input-11-48aae060949b>\u001b[0m in \u001b[0;36m<module>\u001b[1;34m\u001b[0m\n\u001b[0;32m     11\u001b[0m     \u001b[0mtrain_acc1\u001b[0m\u001b[1;33m=\u001b[0m\u001b[1;36m0\u001b[0m\u001b[1;33m\u001b[0m\u001b[1;33m\u001b[0m\u001b[0m\n\u001b[0;32m     12\u001b[0m \u001b[1;33m\u001b[0m\u001b[0m\n\u001b[1;32m---> 13\u001b[1;33m     \u001b[1;32mfor\u001b[0m \u001b[0mi\u001b[0m\u001b[1;33m,\u001b[0m \u001b[1;33m(\u001b[0m\u001b[0mfeatures\u001b[0m\u001b[1;33m,\u001b[0m \u001b[0mlabels\u001b[0m\u001b[1;33m)\u001b[0m \u001b[1;32min\u001b[0m \u001b[0menumerate\u001b[0m\u001b[1;33m(\u001b[0m\u001b[0mtrainloader\u001b[0m\u001b[1;33m)\u001b[0m\u001b[1;33m:\u001b[0m\u001b[1;33m\u001b[0m\u001b[1;33m\u001b[0m\u001b[0m\n\u001b[0m\u001b[0;32m     14\u001b[0m         \u001b[1;31m#print(features.shape)\u001b[0m\u001b[1;33m\u001b[0m\u001b[1;33m\u001b[0m\u001b[1;33m\u001b[0m\u001b[0m\n\u001b[0;32m     15\u001b[0m \u001b[1;33m\u001b[0m\u001b[0m\n",
      "\u001b[1;32m~\\Anaconda3\\lib\\site-packages\\torch\\utils\\data\\dataloader.py\u001b[0m in \u001b[0;36m__next__\u001b[1;34m(self)\u001b[0m\n\u001b[0;32m    559\u001b[0m             \u001b[0mindices\u001b[0m \u001b[1;33m=\u001b[0m \u001b[0mnext\u001b[0m\u001b[1;33m(\u001b[0m\u001b[0mself\u001b[0m\u001b[1;33m.\u001b[0m\u001b[0msample_iter\u001b[0m\u001b[1;33m)\u001b[0m  \u001b[1;31m# may raise StopIteration\u001b[0m\u001b[1;33m\u001b[0m\u001b[1;33m\u001b[0m\u001b[0m\n\u001b[0;32m    560\u001b[0m             \u001b[0mbatch\u001b[0m \u001b[1;33m=\u001b[0m \u001b[0mself\u001b[0m\u001b[1;33m.\u001b[0m\u001b[0mcollate_fn\u001b[0m\u001b[1;33m(\u001b[0m\u001b[1;33m[\u001b[0m\u001b[0mself\u001b[0m\u001b[1;33m.\u001b[0m\u001b[0mdataset\u001b[0m\u001b[1;33m[\u001b[0m\u001b[0mi\u001b[0m\u001b[1;33m]\u001b[0m \u001b[1;32mfor\u001b[0m \u001b[0mi\u001b[0m \u001b[1;32min\u001b[0m \u001b[0mindices\u001b[0m\u001b[1;33m]\u001b[0m\u001b[1;33m)\u001b[0m\u001b[1;33m\u001b[0m\u001b[1;33m\u001b[0m\u001b[0m\n\u001b[1;32m--> 561\u001b[1;33m             \u001b[1;32mif\u001b[0m \u001b[0mself\u001b[0m\u001b[1;33m.\u001b[0m\u001b[0mpin_memory\u001b[0m\u001b[1;33m:\u001b[0m\u001b[1;33m\u001b[0m\u001b[1;33m\u001b[0m\u001b[0m\n\u001b[0m\u001b[0;32m    562\u001b[0m                 \u001b[0mbatch\u001b[0m \u001b[1;33m=\u001b[0m \u001b[0m_utils\u001b[0m\u001b[1;33m.\u001b[0m\u001b[0mpin_memory\u001b[0m\u001b[1;33m.\u001b[0m\u001b[0mpin_memory_batch\u001b[0m\u001b[1;33m(\u001b[0m\u001b[0mbatch\u001b[0m\u001b[1;33m)\u001b[0m\u001b[1;33m\u001b[0m\u001b[1;33m\u001b[0m\u001b[0m\n\u001b[0;32m    563\u001b[0m             \u001b[1;32mreturn\u001b[0m \u001b[0mbatch\u001b[0m\u001b[1;33m\u001b[0m\u001b[1;33m\u001b[0m\u001b[0m\n",
      "\u001b[1;31mKeyboardInterrupt\u001b[0m: "
     ]
    }
   ],
   "source": [
    "from torch.autograd import Variable\n",
    "\n",
    "loss1=[]\n",
    "train_acc=[]\n",
    "\n",
    "Epoch=40\n",
    "\n",
    "for epoch in range(Epoch):\n",
    "    print('------------------------------------------------------------------------------------------')\n",
    "    acc=0\n",
    "    train_acc1=0\n",
    "    \n",
    "    for i, (features, labels) in enumerate(trainloader):\n",
    "        #print(features.shape)\n",
    "\n",
    "        features = Variable(features)\n",
    "\n",
    "        labels = Variable(labels)\n",
    "\n",
    "        \n",
    "\n",
    "        optimizer.zero_grad()\n",
    "\n",
    "        features=features.float()\n",
    "\n",
    "        outputs = model(features)\n",
    "\n",
    "        \n",
    "\n",
    "        loss = criterion(outputs, labels.long())\n",
    "\n",
    "        loss.backward()\n",
    "\n",
    "        optimizer.step()\n",
    "\n",
    "        if (i+1) % len(trainloader) == 0:\n",
    "            Ypred = predict(model, torch.from_numpy(X_train).float())\n",
    "            acc = np.mean(Y_train == Ypred)\n",
    "#             train_acc1=train_accuracy/len(trainloader)\n",
    "\n",
    "            train_acc1=acc/len(trainloader)\n",
    "            train_acc.append(train_acc1)\n",
    "            loss1.append(loss.data)\n",
    "\n",
    "            print ('Epoch [%d/%d], Iter [%d] Loss: %.4f Training Accuracy: %.5f' %(epoch+1, 40, i+1, loss.data, train_acc1 ))\n"
   ]
  },
  {
   "cell_type": "markdown",
   "metadata": {},
   "source": [
    "## we will plot our accuracies and loss functions below."
   ]
  },
  {
   "cell_type": "code",
   "execution_count": 28,
   "metadata": {},
   "outputs": [],
   "source": [
    "np_loss=loss1[0].numpy()\n",
    "for i in range(len(loss1)):\n",
    "    np_loss=np.append(np_loss, loss1[i])\n",
    "np_acc=0.02\n",
    "for i in range(len(train_acc)):\n",
    "    np_acc=np.append(np_acc, train_acc[i])"
   ]
  },
  {
   "cell_type": "markdown",
   "metadata": {},
   "source": [
    "# Training Accuracy\n",
    "    \n",
    "    "
   ]
  },
  {
   "cell_type": "code",
   "execution_count": 19,
   "metadata": {},
   "outputs": [
    {
     "data": {
      "image/png": "[encoded data removed]",
      "text/plain": [
       "<Figure size 432x288 with 1 Axes>"
      ]
     },
     "metadata": {
      "needs_background": "light"
     },
     "output_type": "display_data"
    }
   ],
   "source": [
    "%matplotlib inline\n",
    "plt.plot(np_acc, color='blue')\n",
    "plt.title(\"Training Accuracy\")\n",
    "plt.show()"
   ]
  },
  {
   "cell_type": "markdown",
   "metadata": {},
   "source": [
    "# Training Loss"
   ]
  },
  {
   "cell_type": "code",
   "execution_count": 20,
   "metadata": {},
   "outputs": [
    {
     "data": {
      "image/png": "[encoded data removed]",
      "text/plain": [
       "<Figure size 432x288 with 1 Axes>"
      ]
     },
     "metadata": {
      "needs_background": "light"
     },
     "output_type": "display_data"
    }
   ],
   "source": [
    "%matplotlib inline\n",
    "plt.plot(np_loss, color='red', label='Trainig loss')\n",
    "plt.title(\"Traininng Loss\")\n",
    "plt.legend()\n",
    "plt.show()"
   ]
  },
  {
   "cell_type": "markdown",
   "metadata": {},
   "source": [
    "# Training loss and accuracy curves"
   ]
  },
  {
   "cell_type": "code",
   "execution_count": 21,
   "metadata": {},
   "outputs": [
    {
     "data": {
      "image/png": "[encoded data removed]",
      "text/plain": [
       "<Figure size 432x288 with 1 Axes>"
      ]
     },
     "metadata": {
      "needs_background": "light"
     },
     "output_type": "display_data"
    }
   ],
   "source": [
    "%matplotlib inline\n",
    "plt.plot(np_loss, color='red', label='Trainig loss')\n",
    "plt.plot(np_acc, color='blue', label='Training Accuracy')\n",
    "plt.title(\"Loss/Accuracy curves\")\n",
    "plt.legend()\n",
    "plt.show()"
   ]
  },
  {
   "cell_type": "markdown",
   "metadata": {},
   "source": [
    "# Model test accuracy"
   ]
  },
  {
   "cell_type": "code",
   "execution_count": 29,
   "metadata": {},
   "outputs": [
    {
     "name": "stdout",
     "output_type": "stream",
     "text": [
      "Test accuracy:  0.9982795547909132\n"
     ]
    }
   ],
   "source": [
    "Ypred = predict(model, torch.from_numpy(X_test).float())\n",
    "acc = np.mean(Y_test == Ypred)\n",
    "print('Test accuracy: ', acc)"
   ]
  },
  {
   "cell_type": "markdown",
   "metadata": {},
   "source": [
    "# Precision/ Recall / F1 Scores using sklearn"
   ]
  },
  {
   "cell_type": "code",
   "execution_count": 30,
   "metadata": {},
   "outputs": [
    {
     "name": "stderr",
     "output_type": "stream",
     "text": [
      "C:\\Users\\wajhi\\Anaconda3\\lib\\site-packages\\sklearn\\metrics\\classification.py:1437: UndefinedMetricWarning: Precision and F-score are ill-defined and being set to 0.0 in labels with no predicted samples.\n",
      "  'precision', 'predicted', average, warn_for)\n"
     ]
    },
    {
     "name": "stdout",
     "output_type": "stream",
     "text": [
      "              precision    recall  f1-score   support\n",
      "\n",
      "     Class 0       1.00      1.00      1.00     28432\n",
      "     Class 1       0.00      0.00      0.00        49\n",
      "\n",
      "    accuracy                           1.00     28481\n",
      "   macro avg       0.50      0.50      0.50     28481\n",
      "weighted avg       1.00      1.00      1.00     28481\n",
      "\n"
     ]
    }
   ],
   "source": [
    "from sklearn.metrics import classification_report\n",
    "target_names = ['Class 0', 'Class 1']\n",
    "print(classification_report(Y_test, Ypred, target_names=target_names))"
   ]
  },
  {
   "cell_type": "code",
   "execution_count": null,
   "metadata": {},
   "outputs": [],
   "source": []
  },
  {
   "cell_type": "code",
   "execution_count": null,
   "metadata": {},
   "outputs": [],
   "source": []
  },
  {
   "cell_type": "code",
   "execution_count": null,
   "metadata": {},
   "outputs": [],
   "source": []
  },
  {
   "cell_type": "code",
   "execution_count": null,
   "metadata": {},
   "outputs": [],
   "source": []
  },
  {
   "cell_type": "code",
   "execution_count": null,
   "metadata": {},
   "outputs": [],
   "source": []
  },
  {
   "cell_type": "code",
   "execution_count": null,
   "metadata": {},
   "outputs": [],
   "source": []
  },
  {
   "cell_type": "code",
   "execution_count": null,
   "metadata": {},
   "outputs": [],
   "source": []
  },
  {
   "cell_type": "code",
   "execution_count": null,
   "metadata": {},
   "outputs": [],
   "source": []
  },
  {
   "cell_type": "code",
   "execution_count": null,
   "metadata": {},
   "outputs": [],
   "source": []
  },
  {
   "cell_type": "code",
   "execution_count": null,
   "metadata": {},
   "outputs": [],
   "source": []
  },
  {
   "cell_type": "code",
   "execution_count": null,
   "metadata": {},
   "outputs": [],
   "source": []
  },
  {
   "cell_type": "code",
   "execution_count": null,
   "metadata": {},
   "outputs": [],
   "source": []
  },
  {
   "cell_type": "code",
   "execution_count": null,
   "metadata": {},
   "outputs": [],
   "source": []
  }
 ],
 "metadata": {
  "kernelspec": {
   "display_name": "Python 3",
   "language": "python",
   "name": "python3"
  },
  "language_info": {
   "codemirror_mode": {
    "name": "ipython",
    "version": 3
   },
   "file_extension": ".py",
   "mimetype": "text/x-python",
   "name": "python",
   "nbconvert_exporter": "python",
   "pygments_lexer": "ipython3",
   "version": "3.7.3"
  }
 },
 "nbformat": 4,
 "nbformat_minor": 2
}
