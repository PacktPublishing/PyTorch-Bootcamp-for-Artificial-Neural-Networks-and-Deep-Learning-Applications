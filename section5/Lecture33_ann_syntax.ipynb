{
 "cells": [
  {
   "cell_type": "code",
   "execution_count": null,
   "metadata": {},
   "outputs": [],
   "source": []
  },
  {
   "cell_type": "code",
   "execution_count": 1,
   "metadata": {},
   "outputs": [],
   "source": [
    "import torch\n",
    "import torch.optim as optim\n",
    "import torch.nn as nn\n",
    "##The torch.nn  module is the cornerstone of designing neural networks \n",
    "##in PyTorch. \n",
    "\n",
    "##This class can be used to implement a layer like a fully connected layer\n",
    "##and also an entire neural network by instantiating a torch.nn.Module\n",
    "\n",
    "import numpy as np\n",
    "import matplotlib.pyplot as plt"
   ]
  },
  {
   "cell_type": "markdown",
   "metadata": {},
   "source": [
    "### The nn.Module class has two methods that you have to override:\n",
    "\n",
    "#### 1)__init__ function. This function is invoked when you create an instance of the nn.Module. Here you will define the various parameters of a layer such as filters\n",
    "\n",
    "#### 2)forward function. This is where you define how your output is computed."
   ]
  },
  {
   "cell_type": "code",
   "execution_count": null,
   "metadata": {},
   "outputs": [],
   "source": [
    "####just multiplies the input by a number"
   ]
  },
  {
   "cell_type": "code",
   "execution_count": 4,
   "metadata": {},
   "outputs": [
    {
     "name": "stdout",
     "output_type": "stream",
     "text": [
      "tensor([ 8., 16., 24.])\n"
     ]
    }
   ],
   "source": [
    "class EgLayer(nn.Module):\n",
    "  def __init__(self, param):\n",
    "    super().__init__()\n",
    "    self.param = param \n",
    "  \n",
    "  def forward(self, x):\n",
    "    return x * self.param\n",
    "  \n",
    "myObject = EgLayer(8)\n",
    "output = myObject(torch.Tensor([1, 2, 3]) )   \n",
    "#calling forward inexplicitly \n",
    "print(output)"
   ]
  },
  {
   "cell_type": "code",
   "execution_count": null,
   "metadata": {},
   "outputs": [],
   "source": []
  },
  {
   "cell_type": "code",
   "execution_count": null,
   "metadata": {},
   "outputs": [],
   "source": []
  },
  {
   "cell_type": "code",
   "execution_count": null,
   "metadata": {},
   "outputs": [],
   "source": []
  },
  {
   "cell_type": "code",
   "execution_count": null,
   "metadata": {},
   "outputs": [],
   "source": []
  }
 ],
 "metadata": {
  "kernelspec": {
   "display_name": "Python 3",
   "language": "python",
   "name": "python3"
  },
  "language_info": {
   "codemirror_mode": {
    "name": "ipython",
    "version": 3
   },
   "file_extension": ".py",
   "mimetype": "text/x-python",
   "name": "python",
   "nbconvert_exporter": "python",
   "pygments_lexer": "ipython3",
   "version": "3.7.3"
  }
 },
 "nbformat": 4,
 "nbformat_minor": 2
}
