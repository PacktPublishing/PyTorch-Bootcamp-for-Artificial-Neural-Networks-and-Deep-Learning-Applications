{
 "cells": [
  {
   "cell_type": "code",
   "execution_count": null,
   "metadata": {},
   "outputs": [],
   "source": []
  },
  {
   "cell_type": "code",
   "execution_count": 2,
   "metadata": {},
   "outputs": [],
   "source": [
    "import torch\n",
    "from torch.autograd import Variable\n",
    "import torchvision.transforms as transforms\n",
    "import torchvision.datasets as dsets ##in-built datasets\n"
   ]
  },
  {
   "cell_type": "markdown",
   "metadata": {},
   "source": [
    "### load the in-built dataset MNIST"
   ]
  },
  {
   "cell_type": "code",
   "execution_count": 4,
   "metadata": {},
   "outputs": [
    {
     "name": "stdout",
     "output_type": "stream",
     "text": [
      "Downloading http://yann.lecun.com/exdb/mnist/train-images-idx3-ubyte.gz\n",
      "Downloading http://yann.lecun.com/exdb/mnist/train-labels-idx1-ubyte.gz\n",
      "Downloading http://yann.lecun.com/exdb/mnist/t10k-images-idx3-ubyte.gz\n",
      "Downloading http://yann.lecun.com/exdb/mnist/t10k-labels-idx1-ubyte.gz\n",
      "Processing...\n",
      "Done!\n"
     ]
    }
   ],
   "source": [
    "train_dataset = dsets.MNIST(root='./data', train=True, transform=transforms.ToTensor(), download=True)\n",
    "\n",
    "test_dataset = dsets.MNIST(root='./data', train=False, transform=transforms.ToTensor())"
   ]
  },
  {
   "cell_type": "code",
   "execution_count": 6,
   "metadata": {},
   "outputs": [],
   "source": [
    "train_loader = torch.utils.data.DataLoader(dataset=train_dataset, shuffle=True)\n",
    "test_loader = torch.utils.data.DataLoader(dataset=test_dataset, shuffle=False)"
   ]
  },
  {
   "cell_type": "markdown",
   "metadata": {},
   "source": [
    "### Create the model class to define the architecture of Logistic Regression."
   ]
  },
  {
   "cell_type": "code",
   "execution_count": 7,
   "metadata": {},
   "outputs": [],
   "source": [
    "class LogisticRegression(torch.nn.Module):\n",
    "    def __init__(self, input_dim, output_dim):\n",
    "        super(LogisticRegression, self).__init__()\n",
    "        self.linear = torch.nn.Linear(input_dim, output_dim)\n",
    "\n",
    "    def forward(self, x):\n",
    "        outputs = self.linear(x)\n",
    "        return outputs"
   ]
  },
  {
   "cell_type": "code",
   "execution_count": null,
   "metadata": {},
   "outputs": [],
   "source": []
  },
  {
   "cell_type": "code",
   "execution_count": 8,
   "metadata": {},
   "outputs": [],
   "source": [
    "batch_size = 100\n",
    "n_iters = 3000\n",
    "epochs = n_iters / (len(train_dataset) / batch_size)\n",
    "input_dim = 784\n",
    "output_dim = 10 ## we have 10 response va classes (0 tp 9)\n",
    "lr_rate = 0.001"
   ]
  },
  {
   "cell_type": "code",
   "execution_count": 9,
   "metadata": {},
   "outputs": [],
   "source": [
    "model = LogisticRegression(input_dim, output_dim)"
   ]
  },
  {
   "cell_type": "code",
   "execution_count": 10,
   "metadata": {},
   "outputs": [],
   "source": [
    "criterion = torch.nn.CrossEntropyLoss() \n",
    "# computes softmax and then the cross entropy"
   ]
  },
  {
   "cell_type": "code",
   "execution_count": 11,
   "metadata": {},
   "outputs": [],
   "source": [
    "optimizer = torch.optim.SGD(model.parameters(), lr=lr_rate)"
   ]
  },
  {
   "cell_type": "code",
   "execution_count": null,
   "metadata": {},
   "outputs": [
    {
     "name": "stdout",
     "output_type": "stream",
     "text": [
      "Iteration: 500. Loss: 1.4574002027511597. Accuracy: 58.\n",
      "Iteration: 1000. Loss: 1.2706708908081055. Accuracy: 70.\n",
      "Iteration: 1500. Loss: 0.5909850597381592. Accuracy: 77.\n",
      "Iteration: 2000. Loss: 0.7692577838897705. Accuracy: 77.\n",
      "Iteration: 2500. Loss: 0.5444200038909912. Accuracy: 81.\n",
      "Iteration: 3000. Loss: 0.6324853897094727. Accuracy: 83.\n",
      "Iteration: 3500. Loss: 0.23830342292785645. Accuracy: 82.\n",
      "Iteration: 4000. Loss: 1.2842541933059692. Accuracy: 84.\n",
      "Iteration: 4500. Loss: 1.06606924533844. Accuracy: 83.\n",
      "Iteration: 5000. Loss: 0.3143317699432373. Accuracy: 84.\n",
      "Iteration: 5500. Loss: 1.3394912481307983. Accuracy: 84.\n",
      "Iteration: 6000. Loss: 0.39934539794921875. Accuracy: 84.\n",
      "Iteration: 6500. Loss: 1.381256103515625. Accuracy: 85.\n",
      "Iteration: 7000. Loss: 0.4387321472167969. Accuracy: 86.\n",
      "Iteration: 7500. Loss: 1.3739646673202515. Accuracy: 86.\n",
      "Iteration: 8000. Loss: 0.06810855865478516. Accuracy: 86.\n",
      "Iteration: 8500. Loss: 0.838003396987915. Accuracy: 86.\n",
      "Iteration: 9000. Loss: 0.36258554458618164. Accuracy: 86.\n",
      "Iteration: 9500. Loss: 0.396923303604126. Accuracy: 87.\n",
      "Iteration: 10000. Loss: 0.11138296127319336. Accuracy: 86.\n",
      "Iteration: 10500. Loss: 1.0998542308807373. Accuracy: 87.\n",
      "Iteration: 11000. Loss: 1.5884093046188354. Accuracy: 86.\n",
      "Iteration: 11500. Loss: 0.16164159774780273. Accuracy: 87.\n",
      "Iteration: 12000. Loss: 1.3664860725402832. Accuracy: 87.\n",
      "Iteration: 12500. Loss: 0.05220603942871094. Accuracy: 87.\n",
      "Iteration: 13000. Loss: 0.9642734527587891. Accuracy: 87.\n",
      "Iteration: 13500. Loss: 0.8680152893066406. Accuracy: 87.\n",
      "Iteration: 14000. Loss: 0.06788921356201172. Accuracy: 87.\n",
      "Iteration: 14500. Loss: 0.5462336540222168. Accuracy: 87.\n",
      "Iteration: 15000. Loss: 0.007865428924560547. Accuracy: 87.\n",
      "Iteration: 15500. Loss: 0.620811939239502. Accuracy: 87.\n",
      "Iteration: 16000. Loss: 0.509760856628418. Accuracy: 87.\n",
      "Iteration: 16500. Loss: 0.10281038284301758. Accuracy: 87.\n",
      "Iteration: 17000. Loss: 0.3962209224700928. Accuracy: 87.\n",
      "Iteration: 17500. Loss: 0.27828478813171387. Accuracy: 87.\n",
      "Iteration: 18000. Loss: 0.3629424571990967. Accuracy: 87.\n",
      "Iteration: 18500. Loss: 0.4057607650756836. Accuracy: 87.\n",
      "Iteration: 19000. Loss: 0.25266361236572266. Accuracy: 87.\n",
      "Iteration: 19500. Loss: 0.03980541229248047. Accuracy: 88.\n",
      "Iteration: 20000. Loss: 2.6618828773498535. Accuracy: 88.\n",
      "Iteration: 20500. Loss: 1.3529467582702637. Accuracy: 88.\n",
      "Iteration: 21000. Loss: 0.1311969757080078. Accuracy: 88.\n",
      "Iteration: 21500. Loss: 0.031743526458740234. Accuracy: 88.\n",
      "Iteration: 22000. Loss: 0.403684139251709. Accuracy: 88.\n",
      "Iteration: 22500. Loss: 0.04961729049682617. Accuracy: 88.\n",
      "Iteration: 23000. Loss: 0.1508350372314453. Accuracy: 88.\n",
      "Iteration: 23500. Loss: 0.8085956573486328. Accuracy: 88.\n",
      "Iteration: 24000. Loss: 0.7660443782806396. Accuracy: 88.\n",
      "Iteration: 24500. Loss: 0.05350637435913086. Accuracy: 88.\n",
      "Iteration: 25000. Loss: 1.3478766679763794. Accuracy: 88.\n",
      "Iteration: 25500. Loss: 0.08991765975952148. Accuracy: 88.\n",
      "Iteration: 26000. Loss: 0.017392635345458984. Accuracy: 88.\n",
      "Iteration: 26500. Loss: 0.06669998168945312. Accuracy: 88.\n",
      "Iteration: 27000. Loss: 0.04505586624145508. Accuracy: 88.\n",
      "Iteration: 27500. Loss: 0.12338781356811523. Accuracy: 88.\n",
      "Iteration: 28000. Loss: 5.240728855133057. Accuracy: 89.\n",
      "Iteration: 28500. Loss: 0.41550135612487793. Accuracy: 89.\n",
      "Iteration: 29000. Loss: 0.025933265686035156. Accuracy: 89.\n",
      "Iteration: 29500. Loss: 0.23676252365112305. Accuracy: 89.\n",
      "Iteration: 30000. Loss: 0.4257090091705322. Accuracy: 89.\n",
      "Iteration: 30500. Loss: 0.005335330963134766. Accuracy: 89.\n",
      "Iteration: 31000. Loss: 3.9316930770874023. Accuracy: 89.\n",
      "Iteration: 31500. Loss: 0.05181169509887695. Accuracy: 89.\n",
      "Iteration: 32000. Loss: 0.010642051696777344. Accuracy: 89.\n",
      "Iteration: 32500. Loss: 1.233060598373413. Accuracy: 89.\n",
      "Iteration: 33000. Loss: 1.018880844116211. Accuracy: 89.\n",
      "Iteration: 33500. Loss: 0.12867450714111328. Accuracy: 89.\n",
      "Iteration: 34000. Loss: 0.05122566223144531. Accuracy: 89.\n",
      "Iteration: 34500. Loss: 0.06778430938720703. Accuracy: 89.\n",
      "Iteration: 35000. Loss: 0.11379384994506836. Accuracy: 89.\n",
      "Iteration: 35500. Loss: 0.12997150421142578. Accuracy: 89.\n",
      "Iteration: 36000. Loss: 1.0439667701721191. Accuracy: 89.\n",
      "Iteration: 36500. Loss: 0.9208781719207764. Accuracy: 89.\n",
      "Iteration: 37000. Loss: 1.07869553565979. Accuracy: 89.\n",
      "Iteration: 37500. Loss: 0.6951963901519775. Accuracy: 89.\n",
      "Iteration: 38000. Loss: 0.095733642578125. Accuracy: 89.\n",
      "Iteration: 38500. Loss: 0.18518495559692383. Accuracy: 89.\n",
      "Iteration: 39000. Loss: 0.0895090103149414. Accuracy: 89.\n",
      "Iteration: 39500. Loss: 0.005736351013183594. Accuracy: 89.\n",
      "Iteration: 40000. Loss: 0.0007886886596679688. Accuracy: 89.\n",
      "Iteration: 40500. Loss: 0.2435898780822754. Accuracy: 89.\n",
      "Iteration: 41000. Loss: 0.07735586166381836. Accuracy: 89.\n",
      "Iteration: 41500. Loss: 0.03780841827392578. Accuracy: 89.\n",
      "Iteration: 42000. Loss: 2.6480894088745117. Accuracy: 89.\n",
      "Iteration: 42500. Loss: 0.06406974792480469. Accuracy: 89.\n",
      "Iteration: 43000. Loss: 0.013620376586914062. Accuracy: 89.\n",
      "Iteration: 43500. Loss: 0.03925943374633789. Accuracy: 89.\n",
      "Iteration: 44000. Loss: 1.2067866325378418. Accuracy: 89.\n",
      "Iteration: 44500. Loss: 0.11774015426635742. Accuracy: 89.\n",
      "Iteration: 45000. Loss: 0.20686721801757812. Accuracy: 89.\n",
      "Iteration: 45500. Loss: 2.136061191558838. Accuracy: 89.\n",
      "Iteration: 46000. Loss: 0.16014337539672852. Accuracy: 89.\n",
      "Iteration: 46500. Loss: 0.008235931396484375. Accuracy: 89.\n",
      "Iteration: 47000. Loss: 0.030375003814697266. Accuracy: 89.\n",
      "Iteration: 47500. Loss: 0.03638172149658203. Accuracy: 89.\n",
      "Iteration: 48000. Loss: 2.052156925201416. Accuracy: 89.\n",
      "Iteration: 48500. Loss: 0.016752243041992188. Accuracy: 89.\n",
      "Iteration: 49000. Loss: 0.0017147064208984375. Accuracy: 89.\n",
      "Iteration: 49500. Loss: 0.38054943084716797. Accuracy: 90.\n",
      "Iteration: 50000. Loss: 0.014401435852050781. Accuracy: 89.\n",
      "Iteration: 50500. Loss: 0.7700097560882568. Accuracy: 89.\n",
      "Iteration: 51000. Loss: 0.7506413459777832. Accuracy: 90.\n",
      "Iteration: 51500. Loss: 0.04481697082519531. Accuracy: 90.\n",
      "Iteration: 52000. Loss: 0.1402454376220703. Accuracy: 90.\n",
      "Iteration: 52500. Loss: 0.20670127868652344. Accuracy: 90.\n",
      "Iteration: 53000. Loss: 0.07896184921264648. Accuracy: 90.\n",
      "Iteration: 53500. Loss: 0.013057708740234375. Accuracy: 90.\n",
      "Iteration: 54000. Loss: 0.11067008972167969. Accuracy: 90.\n",
      "Iteration: 54500. Loss: 1.5387184619903564. Accuracy: 90.\n",
      "Iteration: 55000. Loss: 0.2183070182800293. Accuracy: 90.\n",
      "Iteration: 55500. Loss: 0.07749509811401367. Accuracy: 90.\n",
      "Iteration: 56000. Loss: 0.27933835983276367. Accuracy: 90.\n",
      "Iteration: 56500. Loss: 0.034635066986083984. Accuracy: 90.\n",
      "Iteration: 57000. Loss: 0.1769273281097412. Accuracy: 90.\n",
      "Iteration: 57500. Loss: 0.006453514099121094. Accuracy: 90.\n",
      "Iteration: 58000. Loss: 0.009386062622070312. Accuracy: 90.\n",
      "Iteration: 58500. Loss: 0.0005159378051757812. Accuracy: 90.\n",
      "Iteration: 59000. Loss: 0.47657084465026855. Accuracy: 90.\n",
      "Iteration: 59500. Loss: 0.06847953796386719. Accuracy: 90.\n",
      "Iteration: 60000. Loss: 0.21259355545043945. Accuracy: 90.\n",
      "Iteration: 60500. Loss: 0.020855426788330078. Accuracy: 90.\n",
      "Iteration: 61000. Loss: 0.0012712478637695312. Accuracy: 90.\n",
      "Iteration: 61500. Loss: 1.0742645263671875. Accuracy: 90.\n",
      "Iteration: 62000. Loss: 0.0033283233642578125. Accuracy: 90.\n",
      "Iteration: 62500. Loss: 0.15523052215576172. Accuracy: 90.\n",
      "Iteration: 63000. Loss: 0.12032270431518555. Accuracy: 90.\n",
      "Iteration: 63500. Loss: 0.005431175231933594. Accuracy: 90.\n",
      "Iteration: 64000. Loss: 0.02238750457763672. Accuracy: 90.\n",
      "Iteration: 64500. Loss: 0.07463598251342773. Accuracy: 90.\n",
      "Iteration: 65000. Loss: 0.001636505126953125. Accuracy: 90.\n",
      "Iteration: 65500. Loss: 1.975492000579834. Accuracy: 90.\n",
      "Iteration: 66000. Loss: 0.526482105255127. Accuracy: 90.\n",
      "Iteration: 66500. Loss: 0.1157388687133789. Accuracy: 90.\n",
      "Iteration: 67000. Loss: 0.008898735046386719. Accuracy: 90.\n",
      "Iteration: 67500. Loss: 0.006501197814941406. Accuracy: 90.\n",
      "Iteration: 68000. Loss: 0.013799190521240234. Accuracy: 90.\n",
      "Iteration: 68500. Loss: 0.011114120483398438. Accuracy: 90.\n",
      "Iteration: 69000. Loss: 0.014117240905761719. Accuracy: 90.\n",
      "Iteration: 69500. Loss: 0.39890527725219727. Accuracy: 90.\n",
      "Iteration: 70000. Loss: 0.6581516265869141. Accuracy: 90.\n"
     ]
    },
    {
     "name": "stdout",
     "output_type": "stream",
     "text": [
      "Iteration: 70500. Loss: 0.17347383499145508. Accuracy: 90.\n",
      "Iteration: 71000. Loss: 0.3347039222717285. Accuracy: 90.\n",
      "Iteration: 71500. Loss: 0.7308433055877686. Accuracy: 90.\n",
      "Iteration: 72000. Loss: 0.012098312377929688. Accuracy: 90.\n",
      "Iteration: 72500. Loss: 0.03856945037841797. Accuracy: 90.\n",
      "Iteration: 73000. Loss: 0.8278815746307373. Accuracy: 90.\n",
      "Iteration: 73500. Loss: 0.12391948699951172. Accuracy: 90.\n",
      "Iteration: 74000. Loss: 0.06555557250976562. Accuracy: 90.\n",
      "Iteration: 74500. Loss: 0.014919757843017578. Accuracy: 90.\n",
      "Iteration: 75000. Loss: 1.917543888092041. Accuracy: 90.\n",
      "Iteration: 75500. Loss: 0.32926011085510254. Accuracy: 90.\n",
      "Iteration: 76000. Loss: 0.5019798278808594. Accuracy: 90.\n",
      "Iteration: 76500. Loss: 0.00485992431640625. Accuracy: 90.\n",
      "Iteration: 77000. Loss: 0.22340130805969238. Accuracy: 90.\n",
      "Iteration: 77500. Loss: 0.27775049209594727. Accuracy: 90.\n",
      "Iteration: 78000. Loss: 0.05979633331298828. Accuracy: 90.\n",
      "Iteration: 78500. Loss: 0.10294771194458008. Accuracy: 90.\n",
      "Iteration: 79000. Loss: 0.05318164825439453. Accuracy: 90.\n",
      "Iteration: 79500. Loss: 0.13506555557250977. Accuracy: 90.\n"
     ]
    }
   ],
   "source": [
    "iter = 0\n",
    "for epoch in range(int(epochs)):\n",
    "    for i, (images, labels) in enumerate(train_loader):\n",
    "        images = Variable(images.view(-1, 28 * 28))\n",
    "        labels = Variable(labels)\n",
    "\n",
    "        optimizer.zero_grad()\n",
    "        outputs = model(images)\n",
    "        loss = criterion(outputs, labels)\n",
    "        loss.backward()\n",
    "        optimizer.step()\n",
    "\n",
    "        iter+=1\n",
    "        if iter%500==0:\n",
    "            # calculate Accuracy\n",
    "            correct = 0\n",
    "            total = 0\n",
    "            for images, labels in test_loader:\n",
    "                images = Variable(images.view(-1, 28*28))\n",
    "                outputs = model(images)\n",
    "                _, predicted = torch.max(outputs.data, 1)\n",
    "                total+= labels.size(0)\n",
    "                # for gpu, bring the predicted and labels back to cpu fro python operations to work\n",
    "                correct+= (predicted == labels).sum()\n",
    "            accuracy = 100 * correct/total\n",
    "            print(\"Iteration: {}. Loss: {}. Accuracy: {}.\".format(iter, loss.item(), accuracy))"
   ]
  },
  {
   "cell_type": "code",
   "execution_count": null,
   "metadata": {},
   "outputs": [],
   "source": []
  },
  {
   "cell_type": "code",
   "execution_count": null,
   "metadata": {},
   "outputs": [],
   "source": []
  }
 ],
 "metadata": {
  "kernelspec": {
   "display_name": "Python 3",
   "language": "python",
   "name": "python3"
  },
  "language_info": {
   "codemirror_mode": {
    "name": "ipython",
    "version": 3
   },
   "file_extension": ".py",
   "mimetype": "text/x-python",
   "name": "python",
   "nbconvert_exporter": "python",
   "pygments_lexer": "ipython3",
   "version": "3.7.3"
  }
 },
 "nbformat": 4,
 "nbformat_minor": 2
}
